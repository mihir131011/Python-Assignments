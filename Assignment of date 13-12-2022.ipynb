{
 "cells": [
  {
   "cell_type": "markdown",
   "id": "d155799f",
   "metadata": {},
   "source": [
    "# WAP to accept two numbers from the user and display their sum"
   ]
  },
  {
   "cell_type": "code",
   "execution_count": 4,
   "id": "8d3ac1a5",
   "metadata": {},
   "outputs": [
    {
     "name": "stdout",
     "output_type": "stream",
     "text": [
      "Enter number 1 : 10\n",
      "Enter number 2 : 20\n",
      "Sum is 30\n"
     ]
    }
   ],
   "source": [
    "first_num = int(input(\"Enter number 1 : \"))\n",
    "second_num = int(input(\"Enter number 2 : \"))\n",
    "\n",
    "def add(first_num,second_num):\n",
    "    return first_num+second_num;\n",
    "\n",
    "print(\"Sum is\",add(first_num,second_num))"
   ]
  },
  {
   "cell_type": "markdown",
   "id": "00cb8d70",
   "metadata": {},
   "source": [
    "# WAP to accept radius of a Circle from the user and calculate area and circumference"
   ]
  },
  {
   "cell_type": "code",
   "execution_count": 7,
   "id": "91a30aa2",
   "metadata": {},
   "outputs": [
    {
     "name": "stdout",
     "output_type": "stream",
     "text": [
      "Enter the Radius of the circle : 3.78\n",
      "Area of Circle =  44.865576\n",
      "Circumference of Circle =  23.7384\n"
     ]
    }
   ],
   "source": [
    "PI = 3.14\n",
    "\n",
    "radius = float(input(\"Enter the Radius of the circle : \"))\n",
    "\n",
    "area_of_circle = PI*(radius**2) #area of circle is pi*r*r\n",
    "circumference = 2*PI*radius #circumference of circle is 2*pi*r\n",
    "\n",
    "print(\"Area of Circle = \",area_of_circle)\n",
    "print(\"Circumference of Circle = \",circumference)"
   ]
  },
  {
   "cell_type": "markdown",
   "id": "91027b08",
   "metadata": {},
   "source": [
    "# WAP to accept roll number , grade and percentage as input from the user and display it back"
   ]
  },
  {
   "cell_type": "code",
   "execution_count": 14,
   "id": "55b8715e",
   "metadata": {},
   "outputs": [
    {
     "name": "stdout",
     "output_type": "stream",
     "text": [
      "Enter the roll number of the student : 456\n",
      "Enter the grade of the student : a+\n",
      "Enter the percentage of the student : 75.5\n",
      "Student's roll number is 456\n",
      "Student has obtained a+ grade\n",
      "Student has gained 75.5%\n"
     ]
    }
   ],
   "source": [
    "roll_number = input(\"Enter the roll number of the student : \")\n",
    "grade = input(\"Enter the grade of the student : \")\n",
    "percentage = float(input(\"Enter the percentage of the student : \"))\n",
    "\n",
    "print(\"Student's roll number is {roll_number}\".format(roll_number=roll_number))\n",
    "print(\"Student has obtained %s grade\"%grade)\n",
    "print(\"Student has gained\",percentage,\"\\b%\")"
   ]
  },
  {
   "cell_type": "markdown",
   "id": "4bb2d66a",
   "metadata": {},
   "source": [
    "# Write a program that asks the user to enter his/her name and age. Print out a message , displaying the user’s name along with the year in which they will turn 100 years old."
   ]
  },
  {
   "cell_type": "code",
   "execution_count": 19,
   "id": "b723877b",
   "metadata": {},
   "outputs": [
    {
     "name": "stdout",
     "output_type": "stream",
     "text": [
      "Please enter your name : Mihir\n",
      "Please enter your age : 23\n",
      "Hello Mihir\n",
      "Age when Mihir will become hundred is 2099\n"
     ]
    }
   ],
   "source": [
    "name = input(\"Please enter your name : \")\n",
    "age = int(input(\"Please enter your age : \"))\n",
    "\n",
    "def getYearofHundred(currentYear,age):\n",
    "    return (currentYear + (100-age))\n",
    "\n",
    "print(\"Hello\",name)\n",
    "print(\"Age when\",name,\"will become hundred is\",getYearofHundred(2022,age))"
   ]
  },
  {
   "cell_type": "markdown",
   "id": "11afab71",
   "metadata": {},
   "source": [
    "# Write a program that asks the user to input 2 integers and adds them . Accept both the numbers in a single line only"
   ]
  },
  {
   "cell_type": "code",
   "execution_count": 25,
   "id": "7cd01b7e",
   "metadata": {},
   "outputs": [
    {
     "name": "stdout",
     "output_type": "stream",
     "text": [
      "12 23\n",
      "Number 1 is 12 and Number 2 is 23\n"
     ]
    }
   ],
   "source": [
    "num1, num2 = map(int, input().split())\n",
    "\n",
    "print(\"Number 1 is {num1} and Number 2 is {num2}\".format(num1=num1,num2=num2))"
   ]
  },
  {
   "cell_type": "markdown",
   "id": "63f579bf",
   "metadata": {},
   "source": [
    "# Write a Python program which accepts the user's first and last name and print them in reverse order with a space between them."
   ]
  },
  {
   "cell_type": "code",
   "execution_count": 1,
   "id": "e41c1313",
   "metadata": {},
   "outputs": [
    {
     "name": "stdout",
     "output_type": "stream",
     "text": [
      "Enter the first name : Mihir\n",
      "Enter the last name : Poojara\n",
      "arajooP rihiM\n"
     ]
    }
   ],
   "source": [
    "first_name = input(\"Enter the first name : \")\n",
    "last_name = input(\"Enter the last name : \")\n",
    "\n",
    "full_name = first_name+\" \"+last_name\n",
    "\n",
    "print(full_name[::-1])"
   ]
  }
 ],
 "metadata": {
  "kernelspec": {
   "display_name": "Python 3 (ipykernel)",
   "language": "python",
   "name": "python3"
  },
  "language_info": {
   "codemirror_mode": {
    "name": "ipython",
    "version": 3
   },
   "file_extension": ".py",
   "mimetype": "text/x-python",
   "name": "python",
   "nbconvert_exporter": "python",
   "pygments_lexer": "ipython3",
   "version": "3.9.13"
  }
 },
 "nbformat": 4,
 "nbformat_minor": 5
}
