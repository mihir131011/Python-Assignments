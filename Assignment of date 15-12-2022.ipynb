{
 "cells": [
  {
   "cell_type": "markdown",
   "id": "59c12ad7",
   "metadata": {},
   "source": [
    "# WAP to accept an integer from the user and check whether it is an even or odd "
   ]
  },
  {
   "cell_type": "code",
   "execution_count": 3,
   "id": "51f27a3c",
   "metadata": {},
   "outputs": [
    {
     "name": "stdout",
     "output_type": "stream",
     "text": [
      "Please enter a number : 23\n",
      "Odd\n"
     ]
    }
   ],
   "source": [
    "number = int(input(\"Please enter a number : \"))\n",
    "\n",
    "if number%2==0 : \n",
    "    print(\"Even\")\n",
    "else :\n",
    "    print(\"Odd\")"
   ]
  },
  {
   "cell_type": "markdown",
   "id": "82fbecf4",
   "metadata": {},
   "source": [
    "# WAP to accept a character from the user and check whether it is a capital letter or small letter. Assume user will input only alphabets"
   ]
  },
  {
   "cell_type": "code",
   "execution_count": 12,
   "id": "eb7145b0",
   "metadata": {},
   "outputs": [
    {
     "name": "stdout",
     "output_type": "stream",
     "text": [
      "Enter an alphabet : w\n",
      "Entered alphabet is a small letter\n"
     ]
    }
   ],
   "source": [
    "charac = input(\"Enter an alphabet : \")\n",
    "\n",
    "if charac[0].lower() == charac : \n",
    "    print(\"Entered alphabet is a small letter\")\n",
    "else : \n",
    "    print(\"Entered alphabet is a upper letter\")"
   ]
  },
  {
   "cell_type": "markdown",
   "id": "48fcf753",
   "metadata": {},
   "source": [
    "# WAP to accept a character from the user and check whether it is a capital letter or small letter or a digit or some special symbol"
   ]
  },
  {
   "cell_type": "code",
   "execution_count": 33,
   "id": "c7291a67",
   "metadata": {},
   "outputs": [
    {
     "name": "stdout",
     "output_type": "stream",
     "text": [
      "Enter an character : ~\n",
      "It is a speacial character\n"
     ]
    }
   ],
   "source": [
    "charac = input(\"Enter an character : \")\n",
    "\n",
    "\n",
    "if \"a\"<=charac[0]<=\"z\" : \n",
    "    print(\"Entered character is a small letter\")\n",
    "elif \"A\"<=charac[0]<=\"Z\" : \n",
    "    print(\"Entered character is a upper letter\")\n",
    "elif 48 <= ord(charac) <= 57 :\n",
    "    print(\"Entered character is a digit\")\n",
    "else : \n",
    "    print(\"It is a speacial character\")"
   ]
  },
  {
   "cell_type": "markdown",
   "id": "f584981a",
   "metadata": {},
   "source": [
    "# WAP to accept 3 integers from the user and without using any logical operator and cascading of relational operators , find out the greatest number amongst them"
   ]
  },
  {
   "cell_type": "code",
   "execution_count": 45,
   "id": "a3586ba7",
   "metadata": {},
   "outputs": [
    {
     "name": "stdout",
     "output_type": "stream",
     "text": [
      "Enter the number 112\n",
      "Enter the number 223\n",
      "Enter the number 334\n",
      "Largest Number =  34\n"
     ]
    }
   ],
   "source": [
    "num1 = int(input(\"Enter the number 1 : \"))\n",
    "num2 = int(input(\"Enter the number 2 : \"))\n",
    "num3 = int(input(\"Enter the number 3 : \"))\n",
    "\n",
    "if (num1 >= num2) and (num1 >= num3):\n",
    "    largest = num1\n",
    "elif (num2 >= num1) and (num2 >= num3):\n",
    "    largest = num2\n",
    "else:\n",
    "    largest = num3\n",
    "\n",
    "print(\"Largest Number = \",largest)"
   ]
  },
  {
   "cell_type": "markdown",
   "id": "86b24a03",
   "metadata": {},
   "source": [
    "# \tWAP to accept a year from the user and check whether it is a leap year or not.\n",
    "An year is a leap year if:\n",
    "It is exactly divisible by 4 and at the same time not\n",
    "divisible by 100\n",
    "OR\n",
    "It is divisible by 400\n",
    "For example:\n",
    "2017 is not a leap year\n",
    "2012 is a leap year\n",
    "1900 is a not leap year\n",
    "2000 is a leap year\n"
   ]
  },
  {
   "cell_type": "code",
   "execution_count": 58,
   "id": "58a2e684",
   "metadata": {},
   "outputs": [
    {
     "name": "stdout",
     "output_type": "stream",
     "text": [
      "Enter the year : 2012\n",
      "Entered number is a leap year\n"
     ]
    }
   ],
   "source": [
    "year = int(input(\"Enter the year : \"))\n",
    "\n",
    "if year%4 == 0 : \n",
    "    if year%100 != 0 or year%400 == 0 : \n",
    "        print(\"Entered number is a leap year\")\n",
    "    else : \n",
    "        print(\"Entered number is not a leap year\")\n",
    "\n",
    "else : \n",
    "    print(\"Entered Year is not a leap year\")"
   ]
  },
  {
   "cell_type": "markdown",
   "id": "0dec3e1a",
   "metadata": {},
   "source": [
    "# You have to develop a number guessing game. Following are the steps needed:\n",
    "●\tAt first , the program will generate a random integer secretly.\n",
    "\n",
    "●\tNow it will ask the user to guess that number .\n",
    "\n",
    "●\tIf the user guessed it correctly then the program prints “Congratulations! You guessed it right” .\n",
    "\n",
    "●\tBut if the number guessed by the user is larger than the secret number then program should print “Number too large” and , if the number guessed by the user is smaller than the secret number then the program should print “Number too small” \n",
    "\n",
    "●\tThis should continue until the user guesses the number correctly or quits .\n",
    "\n",
    "●\tIf the user wants to quit in between he will have to type 0 or negative number\n"
   ]
  },
  {
   "cell_type": "code",
   "execution_count": null,
   "id": "57064cc9",
   "metadata": {},
   "outputs": [],
   "source": [
    "import random\n",
    "random_num = int(random.random() * 100) + 1 \n",
    "\n",
    "print(\"Guess Game\")\n",
    "\n",
    "while True :\n",
    "    guess = int(input(\"Please enter the guess : \"))\n",
    "    \n",
    "    if guess <= 0:\n",
    "        break;\n",
    "    if guess == random_num :\n",
    "        print(\"Congratulations! You guessed it right\")\n",
    "    elif guess > random_num : \n",
    "        print(\"Number too large\")\n",
    "\n",
    "    elif guess < random_num : \n",
    "        print(\"Number too small\")\n",
    "\n",
    "print(\"Thank You for playing\")"
   ]
  },
  {
   "cell_type": "markdown",
   "id": "80ec1ee6",
   "metadata": {},
   "source": [
    "# Write a program to accept a string from the user and display it vertically but don’t display the vowels in it."
   ]
  },
  {
   "cell_type": "code",
   "execution_count": 1,
   "id": "a3df0b86",
   "metadata": {},
   "outputs": [
    {
     "name": "stdout",
     "output_type": "stream",
     "text": [
      "Enter the string : Mihir\n",
      "M\n",
      "h\n",
      "r\n"
     ]
    }
   ],
   "source": [
    "string = input(\"Enter the string : \")\n",
    "i = 0;\n",
    "\n",
    "while i != len(string) : \n",
    "    if string[i].lower() == 'a' or string[i].lower() == 'e' or string[i].lower() == 'i' or string[i].lower() == 'o' or string[i].lower() == 'u' :\n",
    "        i=i+1\n",
    "    else:\n",
    "        print(string[i])\n",
    "        i = i+1\n"
   ]
  },
  {
   "cell_type": "code",
   "execution_count": 6,
   "id": "e1ca51b5",
   "metadata": {},
   "outputs": [
    {
     "name": "stdout",
     "output_type": "stream",
     "text": [
      "Enter the number10\n",
      "Enter the number-10\n",
      "Enter the number10\n",
      "Enter the number0\n",
      "Sum =  10\n"
     ]
    }
   ],
   "source": [
    "sum = 0\n",
    "while True:\n",
    "    number = int(input(\"Enter the number : \"))\n",
    "    if number == 0 :\n",
    "        break;\n",
    "    sum = sum + number;\n",
    "print(\"Sum = \",sum)    "
   ]
  },
  {
   "cell_type": "markdown",
   "id": "dee947ea",
   "metadata": {},
   "source": [
    "# Write a program to accept an integer from the user and display the sum of all the numbers from 1 to that number."
   ]
  },
  {
   "cell_type": "code",
   "execution_count": null,
   "id": "df1d7e1a",
   "metadata": {},
   "outputs": [],
   "source": [
    "number = int(input(\"Enter the Number : \"))\n",
    "i = 1;\n",
    "sum = 0;\n",
    "while i != number+1:\n",
    "    sum = sum + i\n",
    "    \n",
    "print(\"Sum = \",sum)"
   ]
  },
  {
   "cell_type": "markdown",
   "id": "bf30ae90",
   "metadata": {},
   "source": [
    "# Write a program to accept an integer from the user and display all the numbers from 1 to that number. Repeat the process until the user enters 0."
   ]
  },
  {
   "cell_type": "code",
   "execution_count": null,
   "id": "5f48521d",
   "metadata": {},
   "outputs": [
    {
     "name": "stdout",
     "output_type": "stream",
     "text": [
      "Enter the number = 10\n",
      "1 2 3 4 5 6 7 8 9 10 "
     ]
    }
   ],
   "source": [
    "while True:\n",
    "    number = int(input(\"Enter the number = \"))\n",
    "    if number == 0 : \n",
    "        print(\"Thank you\")\n",
    "    i = 1;\n",
    "    while i != number+1:\n",
    "        print(i,end = \" \")\n",
    "        i = i + 1;"
   ]
  },
  {
   "cell_type": "code",
   "execution_count": null,
   "id": "bafd27e6",
   "metadata": {},
   "outputs": [],
   "source": []
  }
 ],
 "metadata": {
  "kernelspec": {
   "display_name": "Python 3 (ipykernel)",
   "language": "python",
   "name": "python3"
  },
  "language_info": {
   "codemirror_mode": {
    "name": "ipython",
    "version": 3
   },
   "file_extension": ".py",
   "mimetype": "text/x-python",
   "name": "python",
   "nbconvert_exporter": "python",
   "pygments_lexer": "ipython3",
   "version": "3.9.13"
  }
 },
 "nbformat": 4,
 "nbformat_minor": 5
}
